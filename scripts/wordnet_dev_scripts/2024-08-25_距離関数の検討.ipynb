{
 "cells": [
  {
   "cell_type": "code",
   "execution_count": 2,
   "metadata": {},
   "outputs": [],
   "source": [
    "import sqlite3\n",
    "\n",
    "import gokart\n",
    "import luigi\n",
    "import pandas as pd\n",
    "import pandera as pa\n",
    "from pandera.typing import DataFrame, Series"
   ]
  },
  {
   "cell_type": "code",
   "execution_count": 3,
   "metadata": {},
   "outputs": [],
   "source": [
    "conn = sqlite3.connect('./data/wnjpn.db')"
   ]
  },
  {
   "cell_type": "code",
   "execution_count": 67,
   "metadata": {},
   "outputs": [],
   "source": [
    "def get_connection_df(target_word: str)->pd.DataFrame:\n",
    "    cur = conn.execute(f\"\"\"\n",
    "    SELECT\n",
    "        synlink.link AS link_hop1,\n",
    "        word1.lemma AS lemma1,\n",
    "        synlink2.link AS link_hop2,\n",
    "        word2.lemma AS lemma2,\n",
    "        synlink3.link AS link_hop3,\n",
    "        word3.lemma AS lemma3\n",
    "\n",
    "    -- target_word に対する結合synset（hop1）を取得\n",
    "    FROM word\n",
    "    INNER JOIN sense ON word.wordid = sense.wordid\n",
    "    INNER JOIN synlink ON sense.synset = synlink.synset1\n",
    "    INNER JOIN sense AS sense1 ON synlink.synset2 = sense1.synset\n",
    "    INNER JOIN word AS word1 ON sense1.wordid = word1.wordid\n",
    "\n",
    "    -- hop1 に対する結合synset（hop2）を取得\n",
    "    INNER JOIN synlink AS synlink2 ON synlink.synset2 = synlink2.synset1\n",
    "    INNER JOIN sense AS sense2 ON synlink2.synset2 = sense2.synset\n",
    "    INNER JOIN word AS word2 ON sense2.wordid = word2.wordid\n",
    "\n",
    "    -- hop2 に対する結合synset（hop3）を取得\n",
    "    INNER JOIN synlink AS synlink3 ON synlink2.synset2 = synlink3.synset1\n",
    "    INNER JOIN sense AS sense3 ON synlink3.synset2 = sense3.synset\n",
    "    INNER JOIN word AS word3 ON sense3.wordid = word3.wordid\n",
    "\n",
    "    WHERE word.lemma = '{target_word}'\n",
    "    \"\"\")\n",
    "\n",
    "    df = pd.DataFrame(cur.fetchall(), columns=['link_hop1', 'lemma1', 'link_hop2', 'lemma2', 'link_hop3', 'lemma3'])\n",
    "\n",
    "    # hyper_links = ['hype']\n",
    "    hyper_links = ['hype', 'hmem', 'hsub', 'hprt']\n",
    "    df.loc[~df['link_hop2'].isin(hyper_links), ['link_hop3', 'lemma3']] = None\n",
    "    df.loc[~df['link_hop1'].isin(hyper_links), ['link_hop2', 'lemma2', 'link_hop3', 'lemma3']] = None\n",
    "    df = df.drop_duplicates()\n",
    "\n",
    "    # 最も右のNon-nullを採用\n",
    "    df['word'] = df['lemma3'].fillna(df['lemma2']).fillna(df['lemma1'])\n",
    "\n",
    "    # wordが全部英語の場合は除外\n",
    "    df = _remove_english_words(df)\n",
    "\n",
    "    return df\n",
    "\n",
    "\n",
    "def _remove_english_words(df: pd.DataFrame) -> pd.DataFrame:\n",
    "    # wordが全部英語の場合は除外\n",
    "    # 記号や数字も英字とみなす\n",
    "    return df[~df['word'].str.match(r'^[a-zA-Z_0-9]+$')]"
   ]
  },
  {
   "cell_type": "code",
   "execution_count": 68,
   "metadata": {},
   "outputs": [],
   "source": [
    "df1 = get_connection_df('犬')\n",
    "df2 = get_connection_df('ポップコーン')\n",
    "df3 = get_connection_df('時計')\n",
    "df4 = get_connection_df('鏡')\n",
    "df5 = get_connection_df('自動車')"
   ]
  },
  {
   "cell_type": "code",
   "execution_count": 69,
   "metadata": {},
   "outputs": [
    {
     "data": {
      "text/plain": [
       "hype    24585\n",
       "hypo     6599\n",
       "dmtc     4284\n",
       "mprt      633\n",
       "hmem      321\n",
       "mmem      117\n",
       "msub       63\n",
       "dmnc        3\n",
       "hasi        1\n",
       "Name: count, dtype: int64"
      ]
     },
     "execution_count": 69,
     "metadata": {},
     "output_type": "execute_result"
    }
   ],
   "source": [
    "_df = df1.copy()\n",
    "\n",
    "pd.concat([\n",
    "    _df['link_hop1'],\n",
    "    _df['link_hop2'],\n",
    "    _df['link_hop3']], axis=0).value_counts()"
   ]
  },
  {
   "cell_type": "code",
   "execution_count": 77,
   "metadata": {},
   "outputs": [
    {
     "data": {
      "text/html": [
       "<div>\n",
       "<style scoped>\n",
       "    .dataframe tbody tr th:only-of-type {\n",
       "        vertical-align: middle;\n",
       "    }\n",
       "\n",
       "    .dataframe tbody tr th {\n",
       "        vertical-align: top;\n",
       "    }\n",
       "\n",
       "    .dataframe thead th {\n",
       "        text-align: right;\n",
       "    }\n",
       "</style>\n",
       "<table border=\"1\" class=\"dataframe\">\n",
       "  <thead>\n",
       "    <tr style=\"text-align: right;\">\n",
       "      <th></th>\n",
       "      <th>link_hop1</th>\n",
       "      <th>lemma1</th>\n",
       "      <th>link_hop2</th>\n",
       "      <th>lemma2</th>\n",
       "      <th>link_hop3</th>\n",
       "      <th>lemma3</th>\n",
       "      <th>word</th>\n",
       "    </tr>\n",
       "  </thead>\n",
       "  <tbody>\n",
       "    <tr>\n",
       "      <th>298267</th>\n",
       "      <td>hype</td>\n",
       "      <td>domesticated_animal</td>\n",
       "      <td>hype</td>\n",
       "      <td>珍獣</td>\n",
       "      <td>hypo</td>\n",
       "      <td>餌食</td>\n",
       "      <td>餌食</td>\n",
       "    </tr>\n",
       "    <tr>\n",
       "      <th>291189</th>\n",
       "      <td>hype</td>\n",
       "      <td>domestic_animal</td>\n",
       "      <td>hype</td>\n",
       "      <td>生き物</td>\n",
       "      <td>hypo</td>\n",
       "      <td>仲間</td>\n",
       "      <td>仲間</td>\n",
       "    </tr>\n",
       "    <tr>\n",
       "      <th>263903</th>\n",
       "      <td>hype</td>\n",
       "      <td>operative</td>\n",
       "      <td>hype</td>\n",
       "      <td>エイジェント</td>\n",
       "      <td>hypo</td>\n",
       "      <td>業務代理人</td>\n",
       "      <td>業務代理人</td>\n",
       "    </tr>\n",
       "    <tr>\n",
       "      <th>302978</th>\n",
       "      <td>hype</td>\n",
       "      <td>家畜</td>\n",
       "      <td>hype</td>\n",
       "      <td>4つ脚</td>\n",
       "      <td>mprt</td>\n",
       "      <td>天天</td>\n",
       "      <td>天天</td>\n",
       "    </tr>\n",
       "    <tr>\n",
       "      <th>298893</th>\n",
       "      <td>hype</td>\n",
       "      <td>domesticated_animal</td>\n",
       "      <td>hype</td>\n",
       "      <td>四つ足</td>\n",
       "      <td>dmtc</td>\n",
       "      <td>わな</td>\n",
       "      <td>わな</td>\n",
       "    </tr>\n",
       "    <tr>\n",
       "      <th>288560</th>\n",
       "      <td>hype</td>\n",
       "      <td>domestic_animal</td>\n",
       "      <td>hype</td>\n",
       "      <td>beast</td>\n",
       "      <td>dmtc</td>\n",
       "      <td>社会的</td>\n",
       "      <td>社会的</td>\n",
       "    </tr>\n",
       "    <tr>\n",
       "      <th>292216</th>\n",
       "      <td>hype</td>\n",
       "      <td>domestic_animal</td>\n",
       "      <td>hype</td>\n",
       "      <td>生体</td>\n",
       "      <td>hypo</td>\n",
       "      <td>動物プランクトン</td>\n",
       "      <td>動物プランクトン</td>\n",
       "    </tr>\n",
       "    <tr>\n",
       "      <th>263862</th>\n",
       "      <td>hype</td>\n",
       "      <td>operative</td>\n",
       "      <td>hype</td>\n",
       "      <td>代理</td>\n",
       "      <td>hypo</td>\n",
       "      <td>代任</td>\n",
       "      <td>代任</td>\n",
       "    </tr>\n",
       "    <tr>\n",
       "      <th>288590</th>\n",
       "      <td>hype</td>\n",
       "      <td>domestic_animal</td>\n",
       "      <td>hype</td>\n",
       "      <td>beast</td>\n",
       "      <td>dmtc</td>\n",
       "      <td>肉塊</td>\n",
       "      <td>肉塊</td>\n",
       "    </tr>\n",
       "    <tr>\n",
       "      <th>288116</th>\n",
       "      <td>hype</td>\n",
       "      <td>domestic_animal</td>\n",
       "      <td>hype</td>\n",
       "      <td>creature</td>\n",
       "      <td>hype</td>\n",
       "      <td>生物</td>\n",
       "      <td>生物</td>\n",
       "    </tr>\n",
       "  </tbody>\n",
       "</table>\n",
       "</div>"
      ],
      "text/plain": [
       "       link_hop1               lemma1 link_hop2    lemma2 link_hop3    lemma3  \\\n",
       "298267      hype  domesticated_animal      hype        珍獣      hypo        餌食   \n",
       "291189      hype      domestic_animal      hype       生き物      hypo        仲間   \n",
       "263903      hype            operative      hype    エイジェント      hypo     業務代理人   \n",
       "302978      hype                   家畜      hype       4つ脚      mprt        天天   \n",
       "298893      hype  domesticated_animal      hype       四つ足      dmtc        わな   \n",
       "288560      hype      domestic_animal      hype     beast      dmtc       社会的   \n",
       "292216      hype      domestic_animal      hype        生体      hypo  動物プランクトン   \n",
       "263862      hype            operative      hype        代理      hypo        代任   \n",
       "288590      hype      domestic_animal      hype     beast      dmtc        肉塊   \n",
       "288116      hype      domestic_animal      hype  creature      hype        生物   \n",
       "\n",
       "            word  \n",
       "298267        餌食  \n",
       "291189        仲間  \n",
       "263903     業務代理人  \n",
       "302978        天天  \n",
       "298893        わな  \n",
       "288560       社会的  \n",
       "292216  動物プランクトン  \n",
       "263862        代任  \n",
       "288590        肉塊  \n",
       "288116        生物  "
      ]
     },
     "execution_count": 77,
     "metadata": {},
     "output_type": "execute_result"
    }
   ],
   "source": [
    "df1.sample(n=10, random_state=0)"
   ]
  },
  {
   "cell_type": "code",
   "execution_count": 78,
   "metadata": {},
   "outputs": [
    {
     "data": {
      "text/html": [
       "<div>\n",
       "<style scoped>\n",
       "    .dataframe tbody tr th:only-of-type {\n",
       "        vertical-align: middle;\n",
       "    }\n",
       "\n",
       "    .dataframe tbody tr th {\n",
       "        vertical-align: top;\n",
       "    }\n",
       "\n",
       "    .dataframe thead th {\n",
       "        text-align: right;\n",
       "    }\n",
       "</style>\n",
       "<table border=\"1\" class=\"dataframe\">\n",
       "  <thead>\n",
       "    <tr style=\"text-align: right;\">\n",
       "      <th></th>\n",
       "      <th>link_hop1</th>\n",
       "      <th>lemma1</th>\n",
       "      <th>link_hop2</th>\n",
       "      <th>lemma2</th>\n",
       "      <th>link_hop3</th>\n",
       "      <th>lemma3</th>\n",
       "      <th>word</th>\n",
       "    </tr>\n",
       "  </thead>\n",
       "  <tbody>\n",
       "    <tr>\n",
       "      <th>36451</th>\n",
       "      <td>hype</td>\n",
       "      <td>トウモロコシ</td>\n",
       "      <td>hype</td>\n",
       "      <td>グレーン</td>\n",
       "      <td>hypo</td>\n",
       "      <td>上米</td>\n",
       "      <td>上米</td>\n",
       "    </tr>\n",
       "    <tr>\n",
       "      <th>32283</th>\n",
       "      <td>hype</td>\n",
       "      <td>豆</td>\n",
       "      <td>hype</td>\n",
       "      <td>禾穀類</td>\n",
       "      <td>hypo</td>\n",
       "      <td>稲</td>\n",
       "      <td>稲</td>\n",
       "    </tr>\n",
       "    <tr>\n",
       "      <th>24267</th>\n",
       "      <td>hype</td>\n",
       "      <td>蜀黍</td>\n",
       "      <td>hype</td>\n",
       "      <td>グレイン</td>\n",
       "      <td>hypo</td>\n",
       "      <td>御飯</td>\n",
       "      <td>御飯</td>\n",
       "    </tr>\n",
       "    <tr>\n",
       "      <th>42273</th>\n",
       "      <td>hype</td>\n",
       "      <td>トウキビ</td>\n",
       "      <td>hype</td>\n",
       "      <td>グレーン</td>\n",
       "      <td>hypo</td>\n",
       "      <td>オオムギ</td>\n",
       "      <td>オオムギ</td>\n",
       "    </tr>\n",
       "    <tr>\n",
       "      <th>17761</th>\n",
       "      <td>hype</td>\n",
       "      <td>edible_corn</td>\n",
       "      <td>hprt</td>\n",
       "      <td>corn</td>\n",
       "      <td>mprt</td>\n",
       "      <td>穀物</td>\n",
       "      <td>穀物</td>\n",
       "    </tr>\n",
       "    <tr>\n",
       "      <th>23758</th>\n",
       "      <td>hype</td>\n",
       "      <td>蜀黍</td>\n",
       "      <td>hprt</td>\n",
       "      <td>トウモロコシ</td>\n",
       "      <td>hypo</td>\n",
       "      <td>スイートコーン</td>\n",
       "      <td>スイートコーン</td>\n",
       "    </tr>\n",
       "    <tr>\n",
       "      <th>19630</th>\n",
       "      <td>hype</td>\n",
       "      <td>corn</td>\n",
       "      <td>hprt</td>\n",
       "      <td>maize</td>\n",
       "      <td>mprt</td>\n",
       "      <td>米麦</td>\n",
       "      <td>米麦</td>\n",
       "    </tr>\n",
       "    <tr>\n",
       "      <th>10582</th>\n",
       "      <td>hype</td>\n",
       "      <td>玉蜀黍</td>\n",
       "      <td>mprt</td>\n",
       "      <td>豆</td>\n",
       "      <td>None</td>\n",
       "      <td>None</td>\n",
       "      <td>豆</td>\n",
       "    </tr>\n",
       "    <tr>\n",
       "      <th>43527</th>\n",
       "      <td>hype</td>\n",
       "      <td>穀</td>\n",
       "      <td>hype</td>\n",
       "      <td>cereal</td>\n",
       "      <td>hypo</td>\n",
       "      <td>稲</td>\n",
       "      <td>稲</td>\n",
       "    </tr>\n",
       "    <tr>\n",
       "      <th>29923</th>\n",
       "      <td>hype</td>\n",
       "      <td>小麦</td>\n",
       "      <td>hype</td>\n",
       "      <td>food_grain</td>\n",
       "      <td>hypo</td>\n",
       "      <td>穀</td>\n",
       "      <td>穀</td>\n",
       "    </tr>\n",
       "  </tbody>\n",
       "</table>\n",
       "</div>"
      ],
      "text/plain": [
       "      link_hop1       lemma1 link_hop2      lemma2 link_hop3   lemma3     word\n",
       "36451      hype       トウモロコシ      hype        グレーン      hypo       上米       上米\n",
       "32283      hype            豆      hype         禾穀類      hypo        稲        稲\n",
       "24267      hype           蜀黍      hype        グレイン      hypo       御飯       御飯\n",
       "42273      hype         トウキビ      hype        グレーン      hypo     オオムギ     オオムギ\n",
       "17761      hype  edible_corn      hprt        corn      mprt       穀物       穀物\n",
       "23758      hype           蜀黍      hprt      トウモロコシ      hypo  スイートコーン  スイートコーン\n",
       "19630      hype         corn      hprt       maize      mprt       米麦       米麦\n",
       "10582      hype          玉蜀黍      mprt           豆      None     None        豆\n",
       "43527      hype            穀      hype      cereal      hypo        稲        稲\n",
       "29923      hype           小麦      hype  food_grain      hypo        穀        穀"
      ]
     },
     "execution_count": 78,
     "metadata": {},
     "output_type": "execute_result"
    }
   ],
   "source": [
    "df2.sample(n=10, random_state=0)"
   ]
  },
  {
   "cell_type": "code",
   "execution_count": 86,
   "metadata": {},
   "outputs": [
    {
     "data": {
      "text/plain": [
       "True"
      ]
     },
     "execution_count": 86,
     "metadata": {},
     "output_type": "execute_result"
    }
   ],
   "source": [
    "pd.isnull(df5.sample(n=10, random_state=0).iloc[0]['link_hop2'])"
   ]
  },
  {
   "cell_type": "code",
   "execution_count": 56,
   "metadata": {},
   "outputs": [
    {
     "data": {
      "text/plain": [
       "hype    31697\n",
       "hypo    12746\n",
       "hprt     4107\n",
       "mprt     3439\n",
       "hmem      576\n",
       "mmem      288\n",
       "Name: count, dtype: int64"
      ]
     },
     "execution_count": 56,
     "metadata": {},
     "output_type": "execute_result"
    }
   ],
   "source": [
    "_df = df2.copy()\n",
    "\n",
    "pd.concat([\n",
    "    _df['link_hop1'],\n",
    "    _df['link_hop2'],\n",
    "    _df['link_hop3']], axis=0).value_counts()"
   ]
  },
  {
   "cell_type": "code",
   "execution_count": 57,
   "metadata": {},
   "outputs": [
    {
     "data": {
      "text/plain": [
       "hype    7143\n",
       "hypo    3441\n",
       "mprt      98\n",
       "hasi       1\n",
       "Name: count, dtype: int64"
      ]
     },
     "execution_count": 57,
     "metadata": {},
     "output_type": "execute_result"
    }
   ],
   "source": [
    "_df = df3.copy()\n",
    "\n",
    "pd.concat([\n",
    "    _df['link_hop1'],\n",
    "    _df['link_hop2'],\n",
    "    _df['link_hop3']], axis=0).value_counts()"
   ]
  },
  {
   "cell_type": "code",
   "execution_count": 58,
   "metadata": {},
   "outputs": [
    {
     "data": {
      "text/plain": [
       "hype    5085\n",
       "hypo    2466\n",
       "Name: count, dtype: int64"
      ]
     },
     "execution_count": 58,
     "metadata": {},
     "output_type": "execute_result"
    }
   ],
   "source": [
    "_df = df4.copy()\n",
    "\n",
    "pd.concat([\n",
    "    _df['link_hop1'],\n",
    "    _df['link_hop2'],\n",
    "    _df['link_hop3']], axis=0).value_counts()"
   ]
  },
  {
   "cell_type": "code",
   "execution_count": 59,
   "metadata": {},
   "outputs": [
    {
     "data": {
      "text/plain": [
       "hype    729\n",
       "hypo    362\n",
       "mprt    180\n",
       "dmtc     28\n",
       "Name: count, dtype: int64"
      ]
     },
     "execution_count": 59,
     "metadata": {},
     "output_type": "execute_result"
    }
   ],
   "source": [
    "_df = df5.copy()\n",
    "pd.concat([\n",
    "    _df['link_hop1'],\n",
    "    _df['link_hop2'],\n",
    "    _df['link_hop3']], axis=0).value_counts()"
   ]
  },
  {
   "cell_type": "code",
   "execution_count": null,
   "metadata": {},
   "outputs": [],
   "source": []
  },
  {
   "cell_type": "code",
   "execution_count": null,
   "metadata": {},
   "outputs": [],
   "source": []
  },
  {
   "cell_type": "code",
   "execution_count": null,
   "metadata": {},
   "outputs": [],
   "source": []
  }
 ],
 "metadata": {
  "kernelspec": {
   "display_name": ".venv",
   "language": "python",
   "name": "python3"
  },
  "language_info": {
   "codemirror_mode": {
    "name": "ipython",
    "version": 3
   },
   "file_extension": ".py",
   "mimetype": "text/x-python",
   "name": "python",
   "nbconvert_exporter": "python",
   "pygments_lexer": "ipython3",
   "version": "3.12.2"
  }
 },
 "nbformat": 4,
 "nbformat_minor": 2
}
